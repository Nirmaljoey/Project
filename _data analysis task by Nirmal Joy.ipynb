{
 "cells": [
  {
   "cell_type": "markdown",
   "id": "6f864c53",
   "metadata": {},
   "source": [
    "## NIRMAL JOY \n",
    "## Запорожская улица, 21, Санкт-Петербург"
   ]
  },
  {
   "cell_type": "code",
   "execution_count": 1,
   "id": "79ab4189",
   "metadata": {},
   "outputs": [
    {
     "name": "stdout",
     "output_type": "stream",
     "text": [
      "Requirement already satisfied: pandas in c:\\users\\amalj\\anaconda3\\lib\\site-packages (1.5.3)\n",
      "Requirement already satisfied: python-dateutil>=2.8.1 in c:\\users\\amalj\\anaconda3\\lib\\site-packages (from pandas) (2.8.2)\n",
      "Requirement already satisfied: pytz>=2020.1 in c:\\users\\amalj\\anaconda3\\lib\\site-packages (from pandas) (2022.7)\n",
      "Requirement already satisfied: numpy>=1.21.0 in c:\\users\\amalj\\anaconda3\\lib\\site-packages (from pandas) (1.24.3)\n",
      "Requirement already satisfied: six>=1.5 in c:\\users\\amalj\\anaconda3\\lib\\site-packages (from python-dateutil>=2.8.1->pandas) (1.16.0)\n",
      "Requirement already satisfied: matplotlib in c:\\users\\amalj\\anaconda3\\lib\\site-packages (3.7.1)\n",
      "Requirement already satisfied: contourpy>=1.0.1 in c:\\users\\amalj\\anaconda3\\lib\\site-packages (from matplotlib) (1.0.5)\n",
      "Requirement already satisfied: cycler>=0.10 in c:\\users\\amalj\\anaconda3\\lib\\site-packages (from matplotlib) (0.11.0)\n",
      "Requirement already satisfied: fonttools>=4.22.0 in c:\\users\\amalj\\anaconda3\\lib\\site-packages (from matplotlib) (4.25.0)\n",
      "Requirement already satisfied: kiwisolver>=1.0.1 in c:\\users\\amalj\\anaconda3\\lib\\site-packages (from matplotlib) (1.4.4)\n",
      "Requirement already satisfied: numpy>=1.20 in c:\\users\\amalj\\anaconda3\\lib\\site-packages (from matplotlib) (1.24.3)\n",
      "Requirement already satisfied: packaging>=20.0 in c:\\users\\amalj\\anaconda3\\lib\\site-packages (from matplotlib) (23.0)\n",
      "Requirement already satisfied: pillow>=6.2.0 in c:\\users\\amalj\\anaconda3\\lib\\site-packages (from matplotlib) (9.4.0)\n",
      "Requirement already satisfied: pyparsing>=2.3.1 in c:\\users\\amalj\\anaconda3\\lib\\site-packages (from matplotlib) (3.0.9)\n",
      "Requirement already satisfied: python-dateutil>=2.7 in c:\\users\\amalj\\anaconda3\\lib\\site-packages (from matplotlib) (2.8.2)\n",
      "Requirement already satisfied: six>=1.5 in c:\\users\\amalj\\anaconda3\\lib\\site-packages (from python-dateutil>=2.7->matplotlib) (1.16.0)\n"
     ]
    }
   ],
   "source": [
    "#install packages pandas \n",
    "!pip install pandas\n",
    "#install packages matplotlib\n",
    "!pip install matplotlib"
   ]
  },
  {
   "cell_type": "code",
   "execution_count": 2,
   "id": "da15e178",
   "metadata": {},
   "outputs": [],
   "source": [
    "# load library pandas as pd\n",
    "import pandas as pd\n",
    "# load library matplotlib as plt\n",
    "import matplotlib.pyplot as plt"
   ]
  },
  {
   "cell_type": "code",
   "execution_count": 3,
   "id": "166a9dcf",
   "metadata": {},
   "outputs": [],
   "source": [
    "# loading the dataset \"data.xlsx\"\n",
    "df = pd.read_excel(\"C:/Users/amalj/OneDrive/Desktop/new tsk/ТЗ Младший аналитик/data.xlsx\")"
   ]
  },
  {
   "cell_type": "code",
   "execution_count": 4,
   "id": "6c653c02",
   "metadata": {},
   "outputs": [
    {
     "data": {
      "text/html": [
       "<div>\n",
       "<style scoped>\n",
       "    .dataframe tbody tr th:only-of-type {\n",
       "        vertical-align: middle;\n",
       "    }\n",
       "\n",
       "    .dataframe tbody tr th {\n",
       "        vertical-align: top;\n",
       "    }\n",
       "\n",
       "    .dataframe thead th {\n",
       "        text-align: right;\n",
       "    }\n",
       "</style>\n",
       "<table border=\"1\" class=\"dataframe\">\n",
       "  <thead>\n",
       "    <tr style=\"text-align: right;\">\n",
       "      <th></th>\n",
       "      <th>client_id</th>\n",
       "      <th>sum</th>\n",
       "      <th>status</th>\n",
       "      <th>sale</th>\n",
       "      <th>new/current</th>\n",
       "      <th>Unnamed: 5</th>\n",
       "      <th>document</th>\n",
       "      <th>receiving_date</th>\n",
       "    </tr>\n",
       "  </thead>\n",
       "  <tbody>\n",
       "    <tr>\n",
       "      <th>0</th>\n",
       "      <td>NaN</td>\n",
       "      <td>NaN</td>\n",
       "      <td>Май 2021</td>\n",
       "      <td>NaN</td>\n",
       "      <td>NaN</td>\n",
       "      <td>NaN</td>\n",
       "      <td>NaN</td>\n",
       "      <td>NaN</td>\n",
       "    </tr>\n",
       "    <tr>\n",
       "      <th>1</th>\n",
       "      <td>6.0</td>\n",
       "      <td>11693.7</td>\n",
       "      <td>ВНУТРЕННИЙ</td>\n",
       "      <td>-</td>\n",
       "      <td>-</td>\n",
       "      <td>NaN</td>\n",
       "      <td>-</td>\n",
       "      <td>-</td>\n",
       "    </tr>\n",
       "    <tr>\n",
       "      <th>2</th>\n",
       "      <td>14.0</td>\n",
       "      <td>5452.7</td>\n",
       "      <td>ОПЛАЧЕНО</td>\n",
       "      <td>Петрова</td>\n",
       "      <td>новая</td>\n",
       "      <td>NaN</td>\n",
       "      <td>оригинал</td>\n",
       "      <td>2021-07-26 00:00:00</td>\n",
       "    </tr>\n",
       "    <tr>\n",
       "      <th>3</th>\n",
       "      <td>15.0</td>\n",
       "      <td>13991.7</td>\n",
       "      <td>ОПЛАЧЕНО</td>\n",
       "      <td>Иванов</td>\n",
       "      <td>текущая</td>\n",
       "      <td>NaN</td>\n",
       "      <td>оригинал</td>\n",
       "      <td>2021-06-08 00:00:00</td>\n",
       "    </tr>\n",
       "    <tr>\n",
       "      <th>4</th>\n",
       "      <td>16.0</td>\n",
       "      <td>719.7</td>\n",
       "      <td>ОПЛАЧЕНО</td>\n",
       "      <td>Иванов</td>\n",
       "      <td>текущая</td>\n",
       "      <td>NaN</td>\n",
       "      <td>оригинал</td>\n",
       "      <td>2021-06-08 00:00:00</td>\n",
       "    </tr>\n",
       "  </tbody>\n",
       "</table>\n",
       "</div>"
      ],
      "text/plain": [
       "   client_id      sum      status     sale new/current  Unnamed: 5  document  \\\n",
       "0        NaN      NaN    Май 2021      NaN         NaN         NaN       NaN   \n",
       "1        6.0  11693.7  ВНУТРЕННИЙ        -           -         NaN         -   \n",
       "2       14.0   5452.7    ОПЛАЧЕНО  Петрова       новая         NaN  оригинал   \n",
       "3       15.0  13991.7    ОПЛАЧЕНО   Иванов     текущая         NaN  оригинал   \n",
       "4       16.0    719.7    ОПЛАЧЕНО   Иванов     текущая         NaN  оригинал   \n",
       "\n",
       "        receiving_date  \n",
       "0                  NaN  \n",
       "1                    -  \n",
       "2  2021-07-26 00:00:00  \n",
       "3  2021-06-08 00:00:00  \n",
       "4  2021-06-08 00:00:00  "
      ]
     },
     "execution_count": 4,
     "metadata": {},
     "output_type": "execute_result"
    }
   ],
   "source": [
    "df.head()"
   ]
  },
  {
   "cell_type": "code",
   "execution_count": 5,
   "id": "5e91db2a",
   "metadata": {},
   "outputs": [
    {
     "name": "stdout",
     "output_type": "stream",
     "text": [
      "Int64Index([0], dtype='int64')\n",
      "Int64Index([129], dtype='int64')\n",
      "Int64Index([258], dtype='int64')\n",
      "Int64Index([369], dtype='int64')\n",
      "Int64Index([484], dtype='int64')\n",
      "Int64Index([594], dtype='int64')\n",
      "729\n"
     ]
    }
   ],
   "source": [
    "# Finding the indeces To determine the data limits of each month \n",
    "may_indices = df.loc[df['status'] == 'Май 2021'].index\n",
    "june_indices = df.loc[df['status'] == 'Июнь 2021'].index\n",
    "july_indices = df.loc[df['status'] == 'Июль 2021'].index\n",
    "august_indices = df.loc[df['status'] == 'Август 2021'].index\n",
    "september_indices = df.loc[df['status'] == 'Сентябрь 2021'].index\n",
    "october_indices = df.loc[df['status'] == 'Октябрь 2021'].index\n",
    "last_row_index = df.index[-1]\n",
    "# print the indices of month \n",
    "print(may_indices)\n",
    "print(june_indices)\n",
    "print(july_indices)\n",
    "print(august_indices)\n",
    "print(september_indices)\n",
    "print(october_indices)\n",
    "print(last_row_index)"
   ]
  },
  {
   "cell_type": "markdown",
   "id": "af325208",
   "metadata": {},
   "source": [
    "### 1.Вычислите общую выручку за июль 2021 по тем сделкам, приход денежных средств которых не росрочен"
   ]
  },
  {
   "cell_type": "code",
   "execution_count": 6,
   "id": "59112cb8",
   "metadata": {},
   "outputs": [
    {
     "name": "stdout",
     "output_type": "stream",
     "text": [
      "The total revenue for July 2021 for transactions whose cash receipts are not overdue is: $794898.71\n"
     ]
    }
   ],
   "source": [
    "july_data = df.iloc[130:257] \n",
    "july_data = july_data[july_data['status'] != 'ПРОСРОЧЕНО']\n",
    "# Calculate total revenue\n",
    "july_revenue = july_data['sum'].sum()\n",
    "\n",
    "print(f\"The total revenue for July 2021 for transactions whose cash receipts are not overdue is: ${july_revenue:.2f}\")"
   ]
  },
  {
   "cell_type": "code",
   "execution_count": 7,
   "id": "16b193fa",
   "metadata": {},
   "outputs": [
    {
     "name": "stdout",
     "output_type": "stream",
     "text": [
      "object\n"
     ]
    }
   ],
   "source": [
    "# To understand the datatype of date column \n",
    "print(df['receiving_date'].dtype)"
   ]
  },
  {
   "cell_type": "code",
   "execution_count": 8,
   "id": "1a355dc7",
   "metadata": {},
   "outputs": [],
   "source": [
    "# Changing datatype of date into datetime64[ns]\n",
    "df['receiving_date'] = pd.to_datetime(df['receiving_date'], format='%Y-%m-%d', errors='coerce')"
   ]
  },
  {
   "cell_type": "code",
   "execution_count": 9,
   "id": "c2fd6c93",
   "metadata": {},
   "outputs": [
    {
     "name": "stdout",
     "output_type": "stream",
     "text": [
      "datetime64[ns]\n"
     ]
    }
   ],
   "source": [
    "print(df['receiving_date'].dtype)"
   ]
  },
  {
   "cell_type": "markdown",
   "id": "fcc36490",
   "metadata": {},
   "source": [
    "### 2.Как изменялась выручка компании за рассматриваемый период? Проиллюстрируйте графиком."
   ]
  },
  {
   "cell_type": "code",
   "execution_count": 10,
   "id": "06503cde",
   "metadata": {},
   "outputs": [],
   "source": [
    "df1 = df.copy()  # Create a copy of the original DataFrame\n",
    "\n",
    "df1 = df1.dropna(subset=['receiving_date']) # removing row that contains null data in recieveing_date column"
   ]
  },
  {
   "cell_type": "code",
   "execution_count": 11,
   "id": "5b16294f",
   "metadata": {},
   "outputs": [
    {
     "data": {
      "text/plain": [
       "<Axes: title={'center': 'Monthly Revenue Trend'}, xlabel='receiving_date'>"
      ]
     },
     "execution_count": 11,
     "metadata": {},
     "output_type": "execute_result"
    },
    {
     "data": {
      "image/png": "[encoded data removed]",
      "text/plain": [
       "<Figure size 640x480 with 1 Axes>"
      ]
     },
     "metadata": {},
     "output_type": "display_data"
    }
   ],
   "source": [
    "# Calculate monthly revenue of each month \n",
    "monthly_revenue = df1.groupby(df1['receiving_date'].dt.to_period('M'))['sum'].sum()\n",
    "\n",
    "# plotting of monthly revenue trend during the period\n",
    "monthly_revenue.plot(kind='line', title='Monthly Revenue Trend')\n"
   ]
  },
  {
   "cell_type": "markdown",
   "id": "a11922c0",
   "metadata": {},
   "source": [
    "### 3.Кто из менеджеров привлек для компании больше всего денежных средств в сентябре 2021?"
   ]
  },
  {
   "cell_type": "code",
   "execution_count": 12,
   "id": "41fae078",
   "metadata": {},
   "outputs": [],
   "source": [
    "september_data = df.loc[485:593]\n",
    "manager_cash = september_data.groupby('sale')['sum'].sum()"
   ]
  },
  {
   "cell_type": "code",
   "execution_count": 13,
   "id": "c818c52d",
   "metadata": {},
   "outputs": [],
   "source": [
    "# calculating the manager and raised amount\n",
    "top_manager = manager_cash.idxmax()\n",
    "cash_raised = manager_cash.max()"
   ]
  },
  {
   "cell_type": "code",
   "execution_count": 14,
   "id": "ec740607",
   "metadata": {},
   "outputs": [
    {
     "name": "stdout",
     "output_type": "stream",
     "text": [
      "The manager who raised the most cash in September 2021 is Смирнов.\n",
      "Смирнов raised a total of 221525.7 dollars.\n"
     ]
    }
   ],
   "source": [
    "print(f\"The manager who raised the most cash in September 2021 is {top_manager}.\")\n",
    "print(f\"{top_manager} raised a total of {cash_raised} dollars.\")"
   ]
  },
  {
   "cell_type": "markdown",
   "id": "c232473c",
   "metadata": {},
   "source": [
    "### 4.Какой тип сделок (новая/текущая) был преобладающим в октябре 2021?"
   ]
  },
  {
   "cell_type": "code",
   "execution_count": 15,
   "id": "a084d44e",
   "metadata": {},
   "outputs": [],
   "source": [
    "# Step 1: Filter data for October 2021\n",
    "october_data = df.iloc[525:730]"
   ]
  },
  {
   "cell_type": "code",
   "execution_count": 16,
   "id": "5d3644b5",
   "metadata": {},
   "outputs": [
    {
     "name": "stdout",
     "output_type": "stream",
     "text": [
      "The dominant deal type in October 2021 was: текущая\n"
     ]
    }
   ],
   "source": [
    "deal_counts = october_data['new/current'].value_counts()\n",
    "\n",
    "# Step 3: Determine dominant deal type\n",
    "dominant_deal_type = deal_counts.idxmax()\n",
    "\n",
    "# Print the result\n",
    "print(f\"The dominant deal type in October 2021 was: {dominant_deal_type}\")"
   ]
  },
  {
   "cell_type": "markdown",
   "id": "0488568f",
   "metadata": {},
   "source": [
    "### 5.Сколько оригиналов договора по майским сделкам было получено в июне 2021?"
   ]
  },
  {
   "cell_type": "code",
   "execution_count": 17,
   "id": "8fd1a8d8",
   "metadata": {},
   "outputs": [
    {
     "name": "stdout",
     "output_type": "stream",
     "text": [
      "Count of \"оригинал\"  May transactions were received in June 2021: 75\n"
     ]
    }
   ],
   "source": [
    "may_data = df.iloc[1:128]\n",
    "june_transaction = may_data[may_data['receiving_date'].dt.month == 6]\n",
    "count_of_transactions = june_transaction[june_transaction['document'] == 'оригинал'].shape[0]\n",
    "print(f'Count of \"оригинал\"  May transactions were received in June 2021: {count_of_transactions}')"
   ]
  },
  {
   "cell_type": "markdown",
   "id": "1e25b088",
   "metadata": {},
   "source": [
    "###  За каждую заключенную сделку менеджер получает бонус, который рассчитывается следующим образом."
   ]
  },
  {
   "cell_type": "code",
   "execution_count": 18,
   "id": "a5c54340",
   "metadata": {},
   "outputs": [],
   "source": [
    "def bonus(df):\n",
    "    res = 0\n",
    "    if (df['new/current'] == \"новая\") & (df['document'] == \"оригинал\") & (df['status'] == \"ОПЛАЧЕНО\"):\n",
    "        res = df['sum'] * 0.07\n",
    "    elif (df['new/current'] == \"текущая\") & (df['document'] == \"оригинал\") & (df['status'] != \"ПРОСРОЧЕНО\") & (df['sum'] > 10000):\n",
    "        res = df['sum'] * 0.05\n",
    "    elif (df['new/current'] == \"текущая\") & (df['document'] == \"оригинал\") & (df['status'] != \"ПРОСРОЧЕНО\") & (df['sum'] < 10000):\n",
    "        res = df['sum'] * 0.03\n",
    "    return res\n",
    "\n",
    "df['bonus'] = df.apply(bonus, axis=1)"
   ]
  },
  {
   "cell_type": "code",
   "execution_count": 19,
   "id": "29808925",
   "metadata": {},
   "outputs": [
    {
     "data": {
      "text/plain": [
       "sale\n",
       "Андреев       2962.1717\n",
       "Васильев       339.2310\n",
       "Иванов        2503.8390\n",
       "Кузнецова     2604.6716\n",
       "Петрова       7028.8020\n",
       "Селиванов      353.3220\n",
       "Смирнов       4078.7240\n",
       "Филимонова     306.0720\n",
       "Name: bonus, dtype: float64"
      ]
     },
     "execution_count": 19,
     "metadata": {},
     "output_type": "execute_result"
    }
   ],
   "source": [
    "df.query('receiving_date < \"2021-07-01\" and receiving_date > \"2021-05-31\"').groupby('sale')['bonus'].sum()"
   ]
  },
  {
   "cell_type": "code",
   "execution_count": null,
   "id": "4385a370",
   "metadata": {},
   "outputs": [],
   "source": []
  }
 ],
 "metadata": {
  "kernelspec": {
   "display_name": "Python 3 (ipykernel)",
   "language": "python",
   "name": "python3"
  },
  "language_info": {
   "codemirror_mode": {
    "name": "ipython",
    "version": 3
   },
   "file_extension": ".py",
   "mimetype": "text/x-python",
   "name": "python",
   "nbconvert_exporter": "python",
   "pygments_lexer": "ipython3",
   "version": "3.11.4"
  }
 },
 "nbformat": 4,
 "nbformat_minor": 5
}
