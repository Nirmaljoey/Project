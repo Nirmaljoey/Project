{
 "cells": [
  {
   "cell_type": "markdown",
   "id": "da6b1ea5",
   "metadata": {},
   "source": [
    "### NIRMAL JOY \n",
    "###  Запорожская улица, 21, Санкт-Петербург"
   ]
  },
  {
   "cell_type": "markdown",
   "id": "5962a84c",
   "metadata": {},
   "source": [
    "\n",
    "\n",
    "### Как хорошо Вы владеете Python? Оцените свой уровень по шкале от 0 до 10,где 0 - совсем не знаю, 10 - владею в совершенстве.Объясните, почему Вы выбрали такой балл. "
   ]
  },
  {
   "cell_type": "markdown",
   "id": "27f364e3",
   "metadata": {},
   "source": [
    "7\n",
    "\n",
    "I would rate my Python proficiency at a 7. I have a solid foundation in Python and am comfortable working on various projects, from data analysis to web development. I've successfully completed courses and projects that required a deep understanding of Python, and I feel confident in my ability to write efficient and clean code. However, I recognize that there is always potential for improvement, and I am excited to learn and explore more sophisticated concepts and libraries inside the language."
   ]
  },
  {
   "cell_type": "markdown",
   "id": "204ad2f0",
   "metadata": {},
   "source": [
    "### Насколько хорошо Вы знакомы с Google Sheets? Оцените свой уровень по шкале от 0 до 10, где 0 - совсем не знаю, 10 - владею в совершенстве.Объясните, почему Вы выбрали такой балл."
   ]
  },
  {
   "cell_type": "markdown",
   "id": "4f994993",
   "metadata": {},
   "source": [
    "8\n",
    "\n",
    "I rated my proficiency in Google Sheets as an 8 because I have a strong understanding of its features and functionalities. I'm adept at using various functions like VLOOKUP, powerquery and creating complex formulas to manipulate and analyze data. Additionally, I'm comfortable with tasks such as data cleaning, sorting, and creating pivot tables. While I have a good grasp of Google Sheets, I acknowledge that there might be some advanced features or techniques that I'm still learning or exploring, which is why I didn't rate myself as a perfect 10. Overall, I'm confident in my ability to efficiently work with Google Sheets for a wide range of tasks."
   ]
  },
  {
   "cell_type": "markdown",
   "id": "0a6b5470",
   "metadata": {},
   "source": [
    "# Logic problems:"
   ]
  },
  {
   "cell_type": "markdown",
   "id": "5880e814",
   "metadata": {},
   "source": [
    "### Рекламная кампания стартовала вчера с дневным бюджетом 40 USD . Половина бюджета была израсходована к полудню, а 80% оставшегося бюджета было потрачено между полуднем и временем закрытия. Сколько долларов не было потрачено?\n"
   ]
  },
  {
   "cell_type": "markdown",
   "id": "3c942dbf",
   "metadata": {},
   "source": [
    "Daily Budget: $40\n",
    "Half spent by noon: $40 / 2 = $20.\n",
    "Remaining Budget : $40-$20 = $20.\n",
    "80% spent between noon and closing time:$20 * 80/100 = $16\n",
    "Total Amount Spent : $20 + $16 = $36 \n",
    "final Remaining budget : $40 - $36 = $4 "
   ]
  },
  {
   "cell_type": "markdown",
   "id": "6ea045b3",
   "metadata": {},
   "source": [
    "### 5 идентичных рекламных кампаний работали 24 дня по 6 часов в день,потрачено было 120 долларов. Сколько дней они работали бы на 216 долларов, если бы 9 одинаковых кампаний работали бы по 8 часов в день?"
   ]
  },
  {
   "cell_type": "markdown",
   "id": "5a4f9e60",
   "metadata": {},
   "source": [
    "5 identical campaigns worked for 24 days, 6 hours a day:\n",
    "5 campaigns * 24 days * 6 hours = 720 campaign hours\n",
    "\n",
    "$$120   spent  for 720 campaign hours \n",
    "                                 1 campaign hour = $120/720 = $ 1/6 \n",
    "                                 \n",
    "9 identical campaigns worked 8 hours a day\n",
    "9 campaigns * 8 hours = 72 campaign hours \n",
    "How many days would they work for $216\n",
    "Total campaign hours for $216 : Total budget/ cost of campaign hour \n",
    "                     = 216/(1/6)\n",
    "                     = 216*6\n",
    "Total campaign hours = 1296 hours\n",
    "\n",
    "how many days it would take for 9 campaigns working 8 hours a day:\n",
    "           = Total campaign hours / ( need of campaigns and hour per day )\n",
    "           = 1296 / 72\n",
    "           = 18\n",
    "days would they work for $216 = 18 ."
   ]
  },
  {
   "cell_type": "markdown",
   "id": "4220ae76",
   "metadata": {},
   "source": [
    "### Дизайнеры создали 200 рекламных баннеров для двух рекламных кампаний. 80 из них не использовались ни в кампании №1, ни в кампании №2, 60 использовались только в кампании №1. И для каждого рекламного баннера, который использовался в обеих кампаниях, приходится 3 баннера, которые использовались только в кампании №2. Сколько баннеров было использовано в обеих рекламных кампаниях?"
   ]
  },
  {
   "cell_type": "markdown",
   "id": "d982512d",
   "metadata": {},
   "source": [
    "A represents the set of banners used only in Campaign #1.\n",
    "\n",
    "B represents the set of banners used only in Campaign #2.\n",
    "\n",
    "C represents the set of banners used in both campaigns.\n",
    "\n",
    "|A| = 60 (60 banners used only in Campaign #1)\n",
    "|B| = 3C (For every banner used in both campaigns, there are 3 banners used only in Campaign #2)\n",
    "|A Union B| = 200- 80 =120 (Total number of banners used in either Campaign #1 or Campaign #2)\n",
    "|A Intersection B| = 0 (There are no banners used in both campaigns that are exclusive to those two campaigns)\n",
    "|A Union B| = |A| + |B| - |A Intersection B|\n",
    "120 = 60 + 3C - 0\n",
    "3C = 60\n",
    "C =20 \n",
    "there were 20 banners used in both advertising campaigns."
   ]
  },
  {
   "cell_type": "markdown",
   "id": "3ed51c1e",
   "metadata": {},
   "source": [
    "### Энн использует Instagram, но не Facebook, а Джон использует Youtube и Facebook. Кейт использует Youtube, но не Instagram, а Том использует Facebook, но не Youtube. Если каждый человек использует две из трех социальных сетей, у кого предпочтения совпадают?\n"
   ]
  },
  {
   "cell_type": "markdown",
   "id": "c9fc0fa1",
   "metadata": {},
   "source": [
    "Ann uses Instagram but not Facebook.\n",
    "Ann = Instagram\n",
    "\n",
    "John uses Youtube and Facebook.\n",
    "John = Youtube + Facebook\n",
    "\n",
    "Kate uses Youtube but not Instagram,\n",
    "Kate = Youtube\n",
    "\n",
    "Tom uses Facebook but not Youtube.\n",
    "Tom = Facebook\n",
    "\n",
    "If each person uses two out of three social networks\n",
    "then,\n",
    "Ann uses instagram and youtube\n",
    "Ann = Instagram + youtube\n",
    "\n",
    "John uses Youtube and Facebook.\n",
    "John = Youtube + Facebook\n",
    "\n",
    "Kate uses Youtube and facebook\n",
    "Kate = Youtube + facebook\n",
    "\n",
    "Tom uses Facebook and instagram.\n",
    "Tom = facebook + instagram\n",
    "\n",
    "Ann and Kate share the preference of using Youtube.\n",
    "John and Tom share the preference of using facebook."
   ]
  },
  {
   "cell_type": "markdown",
   "id": "65bd9eda",
   "metadata": {},
   "source": [
    "### Средний итоговый балл стажера по 4 модулям составляет 78 баллов. Сколько баллов должен получить стажер за 5-й модуль, чтобы средний балл по всему заданию составил 80?"
   ]
  },
  {
   "cell_type": "markdown",
   "id": "6778bdfe",
   "metadata": {},
   "source": [
    "The average of the first four modules is 78 points\n",
    " s1 + s2 + s3 + s4 / 4 = 78 \n",
    " s1 + s2 + s3 + s4 = 78 * 4 = 312\n",
    " \n",
    " The average of all five modules should be 80 points,\n",
    " s1 + s2 + s3 + s4 + s5 / 5 = 80\n",
    " s1 + s2 + s3 + s4 + s5 = 80 * 5 =400\n",
    " 312 + s5 = 400\n",
    " s5 = 400- 312 = 88\n",
    " s5 = 88\n",
    " \n",
    "So the trainee must receive 88 points in Module 5 to achieve an average score of 80 for the entire assignment."
   ]
  },
  {
   "cell_type": "markdown",
   "id": "6812a573",
   "metadata": {},
   "source": [
    "### Заказанные в приложении товары доставляются на автомобиле. Автомобиль проезжает 260 км со средней скоростью 80 км / ч. На обратном пути машина движется со средней скоростью 100 км / ч. Насколько быстрее был обратный путь? Ответ указать в минутах."
   ]
  },
  {
   "cell_type": "markdown",
   "id": "4634d1ea",
   "metadata": {},
   "source": [
    "For the initial journey:\n",
    "\n",
    "Distance: 260 km\n",
    "Speed: 80 km/h\n",
    "Time taken = Distance / Speed = 260 km / 80 km/h = 3.25 hours\n",
    "\n",
    "For the return journey:\n",
    "\n",
    "Distance: 260 km\n",
    "Speed: 100 km/h\n",
    "Time taken = Distance / Speed = 260 km / 100 km/h = 2.6 hours\n",
    "\n",
    "Difference in time \n",
    "Initial journey time taken - return journey time taken \n",
    "3.25-2.6 = .65 hours\n",
    ".65 hours * 60 = 39 minutes\n",
    "\n",
    "So, the return journey was 39 minutes faster than the initial journey."
   ]
  }
 ],
 "metadata": {
  "kernelspec": {
   "display_name": "Python 3 (ipykernel)",
   "language": "python",
   "name": "python3"
  },
  "language_info": {
   "codemirror_mode": {
    "name": "ipython",
    "version": 3
   },
   "file_extension": ".py",
   "mimetype": "text/x-python",
   "name": "python",
   "nbconvert_exporter": "python",
   "pygments_lexer": "ipython3",
   "version": "3.11.4"
  }
 },
 "nbformat": 4,
 "nbformat_minor": 5
}
